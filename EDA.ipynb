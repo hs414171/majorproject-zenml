{
 "cells": [
  {
   "cell_type": "code",
   "execution_count": 38,
   "metadata": {},
   "outputs": [],
   "source": [
    "import pandas as pd\n",
    "import numpy as np\n",
    "%matplotlib inline"
   ]
  },
  {
   "cell_type": "code",
   "execution_count": 39,
   "metadata": {},
   "outputs": [],
   "source": [
    "df = pd.read_csv(r'C:\\Users\\hs414\\OneDrive\\Desktop\\MajorProject_MLOPS\\data\\data_encoded_main.csv')"
   ]
  },
  {
   "cell_type": "code",
   "execution_count": 40,
   "metadata": {},
   "outputs": [
    {
     "data": {
      "text/html": [
       "<div>\n",
       "<style scoped>\n",
       "    .dataframe tbody tr th:only-of-type {\n",
       "        vertical-align: middle;\n",
       "    }\n",
       "\n",
       "    .dataframe tbody tr th {\n",
       "        vertical-align: top;\n",
       "    }\n",
       "\n",
       "    .dataframe thead th {\n",
       "        text-align: right;\n",
       "    }\n",
       "</style>\n",
       "<table border=\"1\" class=\"dataframe\">\n",
       "  <thead>\n",
       "    <tr style=\"text-align: right;\">\n",
       "      <th></th>\n",
       "      <th>index</th>\n",
       "      <th>Category</th>\n",
       "      <th>Title</th>\n",
       "      <th>Link</th>\n",
       "      <th>Views</th>\n",
       "      <th>Date</th>\n",
       "      <th>Time</th>\n",
       "      <th>Year</th>\n",
       "      <th>Month</th>\n",
       "      <th>Day</th>\n",
       "      <th>...</th>\n",
       "      <th>Type_watchpeopledie.tvo</th>\n",
       "      <th>Type_web.archive.org</th>\n",
       "      <th>Type_whenknivesgoskyward.bandcamp.com</th>\n",
       "      <th>Type_wpd.gumroad.com</th>\n",
       "      <th>Type_wsj.com</th>\n",
       "      <th>Type_wsmv.com</th>\n",
       "      <th>Type_wwatchpeopledie.tv</th>\n",
       "      <th>Type_wzzm13.com</th>\n",
       "      <th>Type_yewtu.be</th>\n",
       "      <th>Type_youtube.com</th>\n",
       "    </tr>\n",
       "  </thead>\n",
       "  <tbody>\n",
       "    <tr>\n",
       "      <th>0</th>\n",
       "      <td>0</td>\n",
       "      <td>Combat</td>\n",
       "      <td>Hamas footage 7th &amp; 8th November fight IDF</td>\n",
       "      <td>https://watchpeopledie.tv/h/combat/post/91516/...</td>\n",
       "      <td>18</td>\n",
       "      <td>2023-11-08</td>\n",
       "      <td>22:26:14</td>\n",
       "      <td>2023</td>\n",
       "      <td>11</td>\n",
       "      <td>8</td>\n",
       "      <td>...</td>\n",
       "      <td>False</td>\n",
       "      <td>False</td>\n",
       "      <td>False</td>\n",
       "      <td>False</td>\n",
       "      <td>False</td>\n",
       "      <td>False</td>\n",
       "      <td>False</td>\n",
       "      <td>False</td>\n",
       "      <td>False</td>\n",
       "      <td>False</td>\n",
       "    </tr>\n",
       "    <tr>\n",
       "      <th>1</th>\n",
       "      <td>1</td>\n",
       "      <td>Social</td>\n",
       "      <td>Spoilers</td>\n",
       "      <td>https://watchpeopledie.tv/h/social/post/91514/...</td>\n",
       "      <td>61</td>\n",
       "      <td>2023-11-08</td>\n",
       "      <td>22:22:12</td>\n",
       "      <td>2023</td>\n",
       "      <td>11</td>\n",
       "      <td>8</td>\n",
       "      <td>...</td>\n",
       "      <td>False</td>\n",
       "      <td>False</td>\n",
       "      <td>False</td>\n",
       "      <td>False</td>\n",
       "      <td>False</td>\n",
       "      <td>False</td>\n",
       "      <td>False</td>\n",
       "      <td>False</td>\n",
       "      <td>False</td>\n",
       "      <td>False</td>\n",
       "    </tr>\n",
       "    <tr>\n",
       "      <th>2</th>\n",
       "      <td>2</td>\n",
       "      <td>Accident</td>\n",
       "      <td>Guy fall of a motorbike on the road.</td>\n",
       "      <td>https://watchpeopledie.tv/h/accident/post/9151...</td>\n",
       "      <td>17</td>\n",
       "      <td>2023-11-08</td>\n",
       "      <td>22:07:57</td>\n",
       "      <td>2023</td>\n",
       "      <td>11</td>\n",
       "      <td>8</td>\n",
       "      <td>...</td>\n",
       "      <td>False</td>\n",
       "      <td>False</td>\n",
       "      <td>False</td>\n",
       "      <td>False</td>\n",
       "      <td>False</td>\n",
       "      <td>False</td>\n",
       "      <td>False</td>\n",
       "      <td>False</td>\n",
       "      <td>False</td>\n",
       "      <td>False</td>\n",
       "    </tr>\n",
       "    <tr>\n",
       "      <th>3</th>\n",
       "      <td>3</td>\n",
       "      <td>Combat</td>\n",
       "      <td>Al-Qassam confronts Israel, which occupies the...</td>\n",
       "      <td>https://watchpeopledie.tv/h/combat/post/91509/...</td>\n",
       "      <td>111</td>\n",
       "      <td>2023-11-08</td>\n",
       "      <td>21:56:09</td>\n",
       "      <td>2023</td>\n",
       "      <td>11</td>\n",
       "      <td>8</td>\n",
       "      <td>...</td>\n",
       "      <td>False</td>\n",
       "      <td>False</td>\n",
       "      <td>False</td>\n",
       "      <td>False</td>\n",
       "      <td>False</td>\n",
       "      <td>False</td>\n",
       "      <td>False</td>\n",
       "      <td>False</td>\n",
       "      <td>False</td>\n",
       "      <td>False</td>\n",
       "    </tr>\n",
       "    <tr>\n",
       "      <th>4</th>\n",
       "      <td>4</td>\n",
       "      <td>Request</td>\n",
       "      <td>lm looking for a certain vid i saw</td>\n",
       "      <td>https://watchpeopledie.tv/h/request/post/91508...</td>\n",
       "      <td>54</td>\n",
       "      <td>2023-11-08</td>\n",
       "      <td>21:41:43</td>\n",
       "      <td>2023</td>\n",
       "      <td>11</td>\n",
       "      <td>8</td>\n",
       "      <td>...</td>\n",
       "      <td>False</td>\n",
       "      <td>False</td>\n",
       "      <td>False</td>\n",
       "      <td>False</td>\n",
       "      <td>False</td>\n",
       "      <td>False</td>\n",
       "      <td>False</td>\n",
       "      <td>False</td>\n",
       "      <td>False</td>\n",
       "      <td>False</td>\n",
       "    </tr>\n",
       "  </tbody>\n",
       "</table>\n",
       "<p>5 rows × 188 columns</p>\n",
       "</div>"
      ],
      "text/plain": [
       "   index  Category                                              Title  \\\n",
       "0      0    Combat         Hamas footage 7th & 8th November fight IDF   \n",
       "1      1    Social                                           Spoilers   \n",
       "2      2  Accident               Guy fall of a motorbike on the road.   \n",
       "3      3    Combat  Al-Qassam confronts Israel, which occupies the...   \n",
       "4      4   Request                 lm looking for a certain vid i saw   \n",
       "\n",
       "                                                Link  Views        Date  \\\n",
       "0  https://watchpeopledie.tv/h/combat/post/91516/...     18  2023-11-08   \n",
       "1  https://watchpeopledie.tv/h/social/post/91514/...     61  2023-11-08   \n",
       "2  https://watchpeopledie.tv/h/accident/post/9151...     17  2023-11-08   \n",
       "3  https://watchpeopledie.tv/h/combat/post/91509/...    111  2023-11-08   \n",
       "4  https://watchpeopledie.tv/h/request/post/91508...     54  2023-11-08   \n",
       "\n",
       "       Time  Year  Month  Day  ...  Type_watchpeopledie.tvo  \\\n",
       "0  22:26:14  2023     11    8  ...                    False   \n",
       "1  22:22:12  2023     11    8  ...                    False   \n",
       "2  22:07:57  2023     11    8  ...                    False   \n",
       "3  21:56:09  2023     11    8  ...                    False   \n",
       "4  21:41:43  2023     11    8  ...                    False   \n",
       "\n",
       "   Type_web.archive.org  Type_whenknivesgoskyward.bandcamp.com  \\\n",
       "0                 False                                  False   \n",
       "1                 False                                  False   \n",
       "2                 False                                  False   \n",
       "3                 False                                  False   \n",
       "4                 False                                  False   \n",
       "\n",
       "   Type_wpd.gumroad.com  Type_wsj.com  Type_wsmv.com  Type_wwatchpeopledie.tv  \\\n",
       "0                 False         False          False                    False   \n",
       "1                 False         False          False                    False   \n",
       "2                 False         False          False                    False   \n",
       "3                 False         False          False                    False   \n",
       "4                 False         False          False                    False   \n",
       "\n",
       "   Type_wzzm13.com  Type_yewtu.be  Type_youtube.com  \n",
       "0            False          False             False  \n",
       "1            False          False             False  \n",
       "2            False          False             False  \n",
       "3            False          False             False  \n",
       "4            False          False             False  \n",
       "\n",
       "[5 rows x 188 columns]"
      ]
     },
     "execution_count": 40,
     "metadata": {},
     "output_type": "execute_result"
    }
   ],
   "source": [
    "df.head()"
   ]
  },
  {
   "cell_type": "code",
   "execution_count": 41,
   "metadata": {},
   "outputs": [],
   "source": [
    "categorical_columns = ['Category','Title','Type']"
   ]
  },
  {
   "cell_type": "code",
   "execution_count": 42,
   "metadata": {},
   "outputs": [
    {
     "name": "stdout",
     "output_type": "stream",
     "text": [
      "<class 'pandas.core.frame.DataFrame'>\n",
      "RangeIndex: 56303 entries, 0 to 56302\n",
      "Columns: 188 entries, index to Type_youtube.com\n",
      "dtypes: bool(175), int64(8), object(5)\n",
      "memory usage: 15.0+ MB\n"
     ]
    }
   ],
   "source": [
    "df.info()"
   ]
  },
  {
   "cell_type": "code",
   "execution_count": 43,
   "metadata": {},
   "outputs": [
    {
     "data": {
      "text/plain": [
       "(56303, 188)"
      ]
     },
     "execution_count": 43,
     "metadata": {},
     "output_type": "execute_result"
    }
   ],
   "source": [
    "df.shape"
   ]
  },
  {
   "cell_type": "code",
   "execution_count": null,
   "metadata": {},
   "outputs": [],
   "source": []
  },
  {
   "cell_type": "code",
   "execution_count": null,
   "metadata": {},
   "outputs": [],
   "source": []
  },
  {
   "cell_type": "code",
   "execution_count": 44,
   "metadata": {},
   "outputs": [
    {
     "data": {
      "text/html": [
       "<div>\n",
       "<style scoped>\n",
       "    .dataframe tbody tr th:only-of-type {\n",
       "        vertical-align: middle;\n",
       "    }\n",
       "\n",
       "    .dataframe tbody tr th {\n",
       "        vertical-align: top;\n",
       "    }\n",
       "\n",
       "    .dataframe thead th {\n",
       "        text-align: right;\n",
       "    }\n",
       "</style>\n",
       "<table border=\"1\" class=\"dataframe\">\n",
       "  <thead>\n",
       "    <tr style=\"text-align: right;\">\n",
       "      <th></th>\n",
       "      <th>index</th>\n",
       "      <th>Category</th>\n",
       "      <th>Title</th>\n",
       "      <th>Link</th>\n",
       "      <th>Views</th>\n",
       "      <th>Date</th>\n",
       "      <th>Time</th>\n",
       "      <th>Year</th>\n",
       "      <th>Month</th>\n",
       "      <th>Day</th>\n",
       "      <th>...</th>\n",
       "      <th>Type_watchpeopledie.tvo</th>\n",
       "      <th>Type_web.archive.org</th>\n",
       "      <th>Type_whenknivesgoskyward.bandcamp.com</th>\n",
       "      <th>Type_wpd.gumroad.com</th>\n",
       "      <th>Type_wsj.com</th>\n",
       "      <th>Type_wsmv.com</th>\n",
       "      <th>Type_wwatchpeopledie.tv</th>\n",
       "      <th>Type_wzzm13.com</th>\n",
       "      <th>Type_yewtu.be</th>\n",
       "      <th>Type_youtube.com</th>\n",
       "    </tr>\n",
       "  </thead>\n",
       "  <tbody>\n",
       "    <tr>\n",
       "      <th>0</th>\n",
       "      <td>0</td>\n",
       "      <td>Combat</td>\n",
       "      <td>Hamas footage 7th &amp; 8th November fight IDF</td>\n",
       "      <td>https://watchpeopledie.tv/h/combat/post/91516/...</td>\n",
       "      <td>18</td>\n",
       "      <td>2023-11-08</td>\n",
       "      <td>22:26:14</td>\n",
       "      <td>2023</td>\n",
       "      <td>11</td>\n",
       "      <td>8</td>\n",
       "      <td>...</td>\n",
       "      <td>False</td>\n",
       "      <td>False</td>\n",
       "      <td>False</td>\n",
       "      <td>False</td>\n",
       "      <td>False</td>\n",
       "      <td>False</td>\n",
       "      <td>False</td>\n",
       "      <td>False</td>\n",
       "      <td>False</td>\n",
       "      <td>False</td>\n",
       "    </tr>\n",
       "    <tr>\n",
       "      <th>1</th>\n",
       "      <td>1</td>\n",
       "      <td>Social</td>\n",
       "      <td>Spoilers</td>\n",
       "      <td>https://watchpeopledie.tv/h/social/post/91514/...</td>\n",
       "      <td>61</td>\n",
       "      <td>2023-11-08</td>\n",
       "      <td>22:22:12</td>\n",
       "      <td>2023</td>\n",
       "      <td>11</td>\n",
       "      <td>8</td>\n",
       "      <td>...</td>\n",
       "      <td>False</td>\n",
       "      <td>False</td>\n",
       "      <td>False</td>\n",
       "      <td>False</td>\n",
       "      <td>False</td>\n",
       "      <td>False</td>\n",
       "      <td>False</td>\n",
       "      <td>False</td>\n",
       "      <td>False</td>\n",
       "      <td>False</td>\n",
       "    </tr>\n",
       "    <tr>\n",
       "      <th>2</th>\n",
       "      <td>2</td>\n",
       "      <td>Accident</td>\n",
       "      <td>Guy fall of a motorbike on the road.</td>\n",
       "      <td>https://watchpeopledie.tv/h/accident/post/9151...</td>\n",
       "      <td>17</td>\n",
       "      <td>2023-11-08</td>\n",
       "      <td>22:07:57</td>\n",
       "      <td>2023</td>\n",
       "      <td>11</td>\n",
       "      <td>8</td>\n",
       "      <td>...</td>\n",
       "      <td>False</td>\n",
       "      <td>False</td>\n",
       "      <td>False</td>\n",
       "      <td>False</td>\n",
       "      <td>False</td>\n",
       "      <td>False</td>\n",
       "      <td>False</td>\n",
       "      <td>False</td>\n",
       "      <td>False</td>\n",
       "      <td>False</td>\n",
       "    </tr>\n",
       "    <tr>\n",
       "      <th>3</th>\n",
       "      <td>3</td>\n",
       "      <td>Combat</td>\n",
       "      <td>Al-Qassam confronts Israel, which occupies the...</td>\n",
       "      <td>https://watchpeopledie.tv/h/combat/post/91509/...</td>\n",
       "      <td>111</td>\n",
       "      <td>2023-11-08</td>\n",
       "      <td>21:56:09</td>\n",
       "      <td>2023</td>\n",
       "      <td>11</td>\n",
       "      <td>8</td>\n",
       "      <td>...</td>\n",
       "      <td>False</td>\n",
       "      <td>False</td>\n",
       "      <td>False</td>\n",
       "      <td>False</td>\n",
       "      <td>False</td>\n",
       "      <td>False</td>\n",
       "      <td>False</td>\n",
       "      <td>False</td>\n",
       "      <td>False</td>\n",
       "      <td>False</td>\n",
       "    </tr>\n",
       "    <tr>\n",
       "      <th>4</th>\n",
       "      <td>4</td>\n",
       "      <td>Request</td>\n",
       "      <td>lm looking for a certain vid i saw</td>\n",
       "      <td>https://watchpeopledie.tv/h/request/post/91508...</td>\n",
       "      <td>54</td>\n",
       "      <td>2023-11-08</td>\n",
       "      <td>21:41:43</td>\n",
       "      <td>2023</td>\n",
       "      <td>11</td>\n",
       "      <td>8</td>\n",
       "      <td>...</td>\n",
       "      <td>False</td>\n",
       "      <td>False</td>\n",
       "      <td>False</td>\n",
       "      <td>False</td>\n",
       "      <td>False</td>\n",
       "      <td>False</td>\n",
       "      <td>False</td>\n",
       "      <td>False</td>\n",
       "      <td>False</td>\n",
       "      <td>False</td>\n",
       "    </tr>\n",
       "  </tbody>\n",
       "</table>\n",
       "<p>5 rows × 188 columns</p>\n",
       "</div>"
      ],
      "text/plain": [
       "   index  Category                                              Title  \\\n",
       "0      0    Combat         Hamas footage 7th & 8th November fight IDF   \n",
       "1      1    Social                                           Spoilers   \n",
       "2      2  Accident               Guy fall of a motorbike on the road.   \n",
       "3      3    Combat  Al-Qassam confronts Israel, which occupies the...   \n",
       "4      4   Request                 lm looking for a certain vid i saw   \n",
       "\n",
       "                                                Link  Views        Date  \\\n",
       "0  https://watchpeopledie.tv/h/combat/post/91516/...     18  2023-11-08   \n",
       "1  https://watchpeopledie.tv/h/social/post/91514/...     61  2023-11-08   \n",
       "2  https://watchpeopledie.tv/h/accident/post/9151...     17  2023-11-08   \n",
       "3  https://watchpeopledie.tv/h/combat/post/91509/...    111  2023-11-08   \n",
       "4  https://watchpeopledie.tv/h/request/post/91508...     54  2023-11-08   \n",
       "\n",
       "       Time  Year  Month  Day  ...  Type_watchpeopledie.tvo  \\\n",
       "0  22:26:14  2023     11    8  ...                    False   \n",
       "1  22:22:12  2023     11    8  ...                    False   \n",
       "2  22:07:57  2023     11    8  ...                    False   \n",
       "3  21:56:09  2023     11    8  ...                    False   \n",
       "4  21:41:43  2023     11    8  ...                    False   \n",
       "\n",
       "   Type_web.archive.org  Type_whenknivesgoskyward.bandcamp.com  \\\n",
       "0                 False                                  False   \n",
       "1                 False                                  False   \n",
       "2                 False                                  False   \n",
       "3                 False                                  False   \n",
       "4                 False                                  False   \n",
       "\n",
       "   Type_wpd.gumroad.com  Type_wsj.com  Type_wsmv.com  Type_wwatchpeopledie.tv  \\\n",
       "0                 False         False          False                    False   \n",
       "1                 False         False          False                    False   \n",
       "2                 False         False          False                    False   \n",
       "3                 False         False          False                    False   \n",
       "4                 False         False          False                    False   \n",
       "\n",
       "   Type_wzzm13.com  Type_yewtu.be  Type_youtube.com  \n",
       "0            False          False             False  \n",
       "1            False          False             False  \n",
       "2            False          False             False  \n",
       "3            False          False             False  \n",
       "4            False          False             False  \n",
       "\n",
       "[5 rows x 188 columns]"
      ]
     },
     "execution_count": 44,
     "metadata": {},
     "output_type": "execute_result"
    }
   ],
   "source": [
    "df.head()"
   ]
  },
  {
   "cell_type": "code",
   "execution_count": 45,
   "metadata": {},
   "outputs": [],
   "source": [
    "df_main = df[['Category','Title']]"
   ]
  },
  {
   "cell_type": "code",
   "execution_count": 46,
   "metadata": {},
   "outputs": [],
   "source": [
    "# df_main.to_csv(r'C:\\Users\\hs414\\OneDrive\\Desktop\\MajorProject_MLOPS\\data\\data_main.csv')"
   ]
  },
  {
   "cell_type": "code",
   "execution_count": 47,
   "metadata": {},
   "outputs": [],
   "source": [
    "df = df_main"
   ]
  },
  {
   "cell_type": "code",
   "execution_count": 48,
   "metadata": {},
   "outputs": [
    {
     "data": {
      "text/plain": [
       "Category    0\n",
       "Title       0\n",
       "dtype: int64"
      ]
     },
     "execution_count": 48,
     "metadata": {},
     "output_type": "execute_result"
    }
   ],
   "source": [
    "df.isnull().sum()"
   ]
  },
  {
   "cell_type": "code",
   "execution_count": 49,
   "metadata": {},
   "outputs": [],
   "source": [
    "SEED = 123456\n",
    "import os\n",
    "import random as rn\n",
    "import numpy as np\n",
    "import tensorflow as tf\n",
    "\n",
    "os.environ['PYTHONHASHSEED']=str(SEED)\n",
    "np.random.seed(SEED)\n",
    "tf.random.set_seed(42)\n",
    "rn.seed(SEED)"
   ]
  },
  {
   "cell_type": "code",
   "execution_count": 50,
   "metadata": {},
   "outputs": [
    {
     "name": "stderr",
     "output_type": "stream",
     "text": [
      "[nltk_data] Downloading package stopwords to\n",
      "[nltk_data]     C:\\Users\\hs414\\AppData\\Roaming\\nltk_data...\n",
      "[nltk_data]   Package stopwords is already up-to-date!\n",
      "[nltk_data] Downloading package wordnet to\n",
      "[nltk_data]     C:\\Users\\hs414\\AppData\\Roaming\\nltk_data...\n",
      "[nltk_data]   Package wordnet is already up-to-date!\n",
      "[nltk_data] Downloading package omw-1.4 to\n",
      "[nltk_data]     C:\\Users\\hs414\\AppData\\Roaming\\nltk_data...\n",
      "[nltk_data]   Package omw-1.4 is already up-to-date!\n",
      "[nltk_data] Downloading package punkt to\n",
      "[nltk_data]     C:\\Users\\hs414\\AppData\\Roaming\\nltk_data...\n",
      "[nltk_data]   Package punkt is already up-to-date!\n"
     ]
    }
   ],
   "source": [
    "\n",
    "import re\n",
    "import numpy as np\n",
    "import nltk\n",
    "from nltk.corpus import stopwords\n",
    "nltk.download('stopwords')\n",
    "from nltk.stem.porter import PorterStemmer\n",
    "from nltk.stem import WordNetLemmatizer\n",
    "nltk.download('wordnet')\n",
    "nltk.download('omw-1.4')\n",
    "nltk.download('punkt')\n",
    "from tensorflow import keras\n",
    "\n",
    "from keras.preprocessing.sequence import pad_sequences\n",
    "from keras.models import Sequential\n",
    "from keras.preprocessing.text import one_hot"
   ]
  },
  {
   "cell_type": "code",
   "execution_count": 51,
   "metadata": {},
   "outputs": [],
   "source": [
    "y = df['Category']\n",
    "X = df['Title'].tolist()"
   ]
  },
  {
   "cell_type": "code",
   "execution_count": 52,
   "metadata": {},
   "outputs": [],
   "source": [
    "from nltk.tokenize import word_tokenize\n",
    "from nltk.stem import PorterStemmer\n",
    "from sklearn.feature_extraction.text import CountVectorizer, TfidfVectorizer\n",
    "from tensorflow.keras.preprocessing.text import Tokenizer\n",
    "from tensorflow.keras.preprocessing.sequence import pad_sequences\n",
    "import numpy as np\n",
    "\n",
    "\n",
    "# Tokenization\n",
    "tokenized_titles = [word_tokenize(title.lower()) for title in X]"
   ]
  },
  {
   "cell_type": "code",
   "execution_count": 53,
   "metadata": {},
   "outputs": [],
   "source": [
    "stemmer = PorterStemmer()\n",
    "stemmed_titles = [' '.join([stemmer.stem(word) for word in title]) for title in tokenized_titles]"
   ]
  },
  {
   "cell_type": "code",
   "execution_count": 54,
   "metadata": {},
   "outputs": [],
   "source": [
    "tokenizer = Tokenizer()\n",
    "tokenizer.fit_on_texts(X)\n",
    "one_hot_results = tokenizer.texts_to_sequences(stemmed_titles)"
   ]
  },
  {
   "cell_type": "code",
   "execution_count": 55,
   "metadata": {},
   "outputs": [],
   "source": [
    "max_length = max(len(title) for title in tokenized_titles)"
   ]
  },
  {
   "cell_type": "code",
   "execution_count": 56,
   "metadata": {},
   "outputs": [],
   "source": [
    "one_hot_padded = pad_sequences(one_hot_results, maxlen=max_length, padding='pre')\n"
   ]
  },
  {
   "cell_type": "code",
   "execution_count": 57,
   "metadata": {},
   "outputs": [],
   "source": [
    "from sklearn.preprocessing import LabelEncoder\n",
    "from tensorflow.keras.models import Sequential\n",
    "from tensorflow.keras.layers import Embedding, Bidirectional, LSTM, Dropout, Dense, Reshape\n",
    "\n",
    "\n",
    "label_encoder = LabelEncoder()\n",
    "Y_encoded = label_encoder.fit_transform(y)\n"
   ]
  },
  {
   "cell_type": "code",
   "execution_count": 58,
   "metadata": {},
   "outputs": [],
   "source": [
    "from sklearn.model_selection import train_test_split\n",
    "X_train, X_test, Y_train, Y_test = train_test_split(one_hot_padded, Y_encoded, test_size=0.2, random_state=42)"
   ]
  },
  {
   "cell_type": "code",
   "execution_count": 59,
   "metadata": {},
   "outputs": [],
   "source": [
    "vocab_size = len(tokenizer.word_index) + 1"
   ]
  },
  {
   "cell_type": "code",
   "execution_count": 60,
   "metadata": {},
   "outputs": [],
   "source": [
    "embedding_dim = 200"
   ]
  },
  {
   "cell_type": "code",
   "execution_count": 61,
   "metadata": {},
   "outputs": [
    {
     "name": "stdout",
     "output_type": "stream",
     "text": [
      "Model: \"sequential_3\"\n",
      "_________________________________________________________________\n",
      " Layer (type)                Output Shape              Param #   \n",
      "=================================================================\n",
      " embedding_2 (Embedding)     (None, 116, 200)          6157400   \n",
      "                                                                 \n",
      " reshape_2 (Reshape)         (None, 116, 200)          0         \n",
      "                                                                 \n",
      " lstm_4 (LSTM)               (None, 116, 128)          168448    \n",
      "                                                                 \n",
      " dropout_3 (Dropout)         (None, 116, 128)          0         \n",
      "                                                                 \n",
      " lstm_5 (LSTM)               (None, 128)               131584    \n",
      "                                                                 \n",
      " dropout_4 (Dropout)         (None, 128)               0         \n",
      "                                                                 \n",
      " dense_3 (Dense)             (None, 64)                8256      \n",
      "                                                                 \n",
      " dense_4 (Dense)             (None, 32)                2080      \n",
      "                                                                 \n",
      "=================================================================\n",
      "Total params: 6467768 (24.67 MB)\n",
      "Trainable params: 6467768 (24.67 MB)\n",
      "Non-trainable params: 0 (0.00 Byte)\n",
      "_________________________________________________________________\n",
      "None\n"
     ]
    }
   ],
   "source": [
    "model = Sequential()\n",
    "model.add(Embedding(vocab_size, embedding_dim, input_length=max_length))\n",
    "model.add(Reshape((max_length, embedding_dim)))  # Reshape output of Embedding to match LSTM input\n",
    "model.add(LSTM(128, return_sequences=True))  # Return sequences to stack LSTM layers\n",
    "model.add(Dropout(0.3))\n",
    "model.add(LSTM(128))\n",
    "model.add(Dropout(0.3))\n",
    "model.add(Dense(64, activation='relu'))\n",
    "model.add(Dense(len(label_encoder.classes_), activation='softmax'))\n",
    "\n",
    "model.compile(loss='sparse_categorical_crossentropy', optimizer='adam', metrics=['accuracy'])\n",
    "\n",
    "print(model.summary())"
   ]
  },
  {
   "cell_type": "code",
   "execution_count": 62,
   "metadata": {},
   "outputs": [
    {
     "data": {
      "text/plain": [
       "30787"
      ]
     },
     "execution_count": 62,
     "metadata": {},
     "output_type": "execute_result"
    }
   ],
   "source": [
    "vocab_size"
   ]
  },
  {
   "cell_type": "code",
   "execution_count": 63,
   "metadata": {},
   "outputs": [],
   "source": [
    "word_index = tokenizer.word_index\n",
    "vocab_size = len(word_index)"
   ]
  },
  {
   "cell_type": "code",
   "execution_count": 64,
   "metadata": {},
   "outputs": [
    {
     "data": {
      "text/plain": [
       "30786"
      ]
     },
     "execution_count": 64,
     "metadata": {},
     "output_type": "execute_result"
    }
   ],
   "source": [
    "vocab_size"
   ]
  },
  {
   "cell_type": "code",
   "execution_count": 65,
   "metadata": {},
   "outputs": [
    {
     "data": {
      "text/plain": [
       "array(['Accident', 'Aftermath', 'Animal', 'Beating', 'Beheading',\n",
       "       'Bladed', 'Burning', 'Cartel', 'Combat', 'Compilation', 'Disaster',\n",
       "       'Discussion', 'Drowning', 'Electricity', 'Execution', 'Explosions',\n",
       "       'Falling', 'Fights', 'Gore', 'Industrial', 'Isis', 'Maiming',\n",
       "       'Medical', 'Meta', 'Music', 'Other', 'Police', 'Request',\n",
       "       'Shooting', 'Social', 'Suicide', 'Vehicle'], dtype=object)"
      ]
     },
     "execution_count": 65,
     "metadata": {},
     "output_type": "execute_result"
    }
   ],
   "source": [
    "label_encoder.classes_"
   ]
  },
  {
   "cell_type": "code",
   "execution_count": 66,
   "metadata": {},
   "outputs": [
    {
     "data": {
      "text/html": [
       "<div>\n",
       "<style scoped>\n",
       "    .dataframe tbody tr th:only-of-type {\n",
       "        vertical-align: middle;\n",
       "    }\n",
       "\n",
       "    .dataframe tbody tr th {\n",
       "        vertical-align: top;\n",
       "    }\n",
       "\n",
       "    .dataframe thead th {\n",
       "        text-align: right;\n",
       "    }\n",
       "</style>\n",
       "<table border=\"1\" class=\"dataframe\">\n",
       "  <thead>\n",
       "    <tr style=\"text-align: right;\">\n",
       "      <th></th>\n",
       "      <th>Category</th>\n",
       "      <th>Title</th>\n",
       "    </tr>\n",
       "  </thead>\n",
       "  <tbody>\n",
       "    <tr>\n",
       "      <th>0</th>\n",
       "      <td>Combat</td>\n",
       "      <td>Hamas footage 7th &amp; 8th November fight IDF</td>\n",
       "    </tr>\n",
       "    <tr>\n",
       "      <th>1</th>\n",
       "      <td>Social</td>\n",
       "      <td>Spoilers</td>\n",
       "    </tr>\n",
       "    <tr>\n",
       "      <th>2</th>\n",
       "      <td>Accident</td>\n",
       "      <td>Guy fall of a motorbike on the road.</td>\n",
       "    </tr>\n",
       "    <tr>\n",
       "      <th>3</th>\n",
       "      <td>Combat</td>\n",
       "      <td>Al-Qassam confronts Israel, which occupies the...</td>\n",
       "    </tr>\n",
       "    <tr>\n",
       "      <th>4</th>\n",
       "      <td>Request</td>\n",
       "      <td>lm looking for a certain vid i saw</td>\n",
       "    </tr>\n",
       "  </tbody>\n",
       "</table>\n",
       "</div>"
      ],
      "text/plain": [
       "   Category                                              Title\n",
       "0    Combat         Hamas footage 7th & 8th November fight IDF\n",
       "1    Social                                           Spoilers\n",
       "2  Accident               Guy fall of a motorbike on the road.\n",
       "3    Combat  Al-Qassam confronts Israel, which occupies the...\n",
       "4   Request                 lm looking for a certain vid i saw"
      ]
     },
     "execution_count": 66,
     "metadata": {},
     "output_type": "execute_result"
    }
   ],
   "source": [
    "df.head()"
   ]
  },
  {
   "cell_type": "code",
   "execution_count": 67,
   "metadata": {},
   "outputs": [
    {
     "name": "stdout",
     "output_type": "stream",
     "text": [
      "[[    0     0     0     0     0     0     0     0     0     0     0     0\n",
      "      0     0     0     0     0     0     0     0     0     0     0     0\n",
      "      0     0     0     0     0     0     0     0     0     0     0     0\n",
      "      0     0     0     0     0     0     0     0     0     0     0     0\n",
      "      0     0     0     0     0     0     0     0     0     0     0     0\n",
      "      0     0     0     0     0     0     0     0     0     0     0     0\n",
      "      0     0     0     0     0     0     0     0     0     0     0     0\n",
      "      0     0     0     0     0     0     0     0     0     0     0     0\n",
      "      0     0     0     0     0     0     0     0     0     0     0     0\n",
      "      0     0     0  4915  2232  2925    51   677]\n",
      " [    0     0     0     0     0     0     0     0     0     0     0     0\n",
      "      0     0     0     0     0     0     0     0     0     0     0     0\n",
      "      0     0     0     0     0     0     0     0     0     0     0     0\n",
      "      0     0     0     0     0     0     0     0     0     0     0     0\n",
      "      0     0     0     0     0     0     0     0     0     0     0     0\n",
      "      0     0     0     0     0     0     0     0     0     0     0     0\n",
      "      0     0     0     0     0     0     0     0     0     0     0     0\n",
      "      0     0     0     0     0     0     0     0     0     0     0     0\n",
      "      0     0     0     0     0     0     0     0     0     0     0     0\n",
      "      0     0     0     0     0     0     0  8020]\n",
      " [    0     0     0     0     0     0     0     0     0     0     0     0\n",
      "      0     0     0     0     0     0     0     0     0     0     0     0\n",
      "      0     0     0     0     0     0     0     0     0     0     0     0\n",
      "      0     0     0     0     0     0     0     0     0     0     0     0\n",
      "      0     0     0     0     0     0     0     0     0     0     0     0\n",
      "      0     0     0     0     0     0     0     0     0     0     0     0\n",
      "      0     0     0     0     0     0     0     0     0     0     0     0\n",
      "      0     0     0     0     0     0     0     0     0     0     0     0\n",
      "      0     0     0     0     0     0     0     0     0     0     0     0\n",
      "      0     0     0     0     0    22   489    97]\n",
      " [    0     0     0     0     0     0     0     0     0     0     0     0\n",
      "      0     0     0     0     0     0     0     0     0     0     0     0\n",
      "      0     0     0     0     0     0     0     0     0     0     0     0\n",
      "      0     0     0     0     0     0     0     0     0     0     0     0\n",
      "      0     0     0     0     0     0     0     0     0     0     0     0\n",
      "      0     0     0     0     0     0     0     0     0     0     0     0\n",
      "      0     0     0     0     0     0     0     0     0     0     0     0\n",
      "      0     0     0     0     0     0     0     0     0     0     0     0\n",
      "      0     0     0     0     0     0     0     0     0     0     0  7057\n",
      "    541  1693  1881   561   454 28787  1021  2073]\n",
      " [    0     0     0     0     0     0     0     0     0     0     0     0\n",
      "      0     0     0     0     0     0     0     0     0     0     0     0\n",
      "      0     0     0     0     0     0     0     0     0     0     0     0\n",
      "      0     0     0     0     0     0     0     0     0     0     0     0\n",
      "      0     0     0     0     0     0     0     0     0     0     0     0\n",
      "      0     0     0     0     0     0     0     0     0     0     0     0\n",
      "      0     0     0     0     0     0     0     0     0     0     0     0\n",
      "      0     0     0     0     0     0     0     0     0     0     0     0\n",
      "      0     0     0     0     0     0     0     0     0     0     0     0\n",
      "      0     0     0 14859   657  3062   562   836]]\n"
     ]
    }
   ],
   "source": [
    "def remove_special_characters(token):\n",
    "    return re.sub(r'[^\\w\\s]', '', token)\n",
    "y = df['Category']\n",
    "X = df['Title'].tolist()\n",
    "            \n",
    "            # Clean and preprocess data\n",
    "tokenized_titles = [word_tokenize(title.lower()) for title in X]\n",
    "stop_words = set(stopwords.words('english'))\n",
    "filtered_titles = []\n",
    "for title_tokens in tokenized_titles:\n",
    "    filtered_tokens = [word for word in title_tokens if word.lower() not in stop_words]\n",
    "    filtered_titles.append(filtered_tokens)\n",
    "cleaned_titles = []\n",
    "for title_tokens in filtered_titles:\n",
    "    title_without_special_chars = [remove_special_characters(token) for token in title_tokens]\n",
    "    cleaned_titles.append(title_without_special_chars)\n",
    "stemmer = PorterStemmer()\n",
    "stemmed_titles = [' '.join([stemmer.stem(word) for word in title]) for title in cleaned_titles]\n",
    "tokenizer = Tokenizer()\n",
    "tokenizer.fit_on_texts(X)\n",
    "one_hot_results = tokenizer.texts_to_sequences(stemmed_titles)\n",
    "max_length = max(len(title) for title in tokenized_titles)\n",
    "one_hot_padded = pad_sequences(one_hot_results, maxlen=max_length, padding='pre')\n",
    "print(one_hot_padded[:5])\n",
    "label_encoder = LabelEncoder()\n",
    "Y_encoded = label_encoder.fit_transform(y)\n",
    "word_index = tokenizer.word_index\n",
    "vocab_size = len(word_index)+1"
   ]
  },
  {
   "cell_type": "code",
   "execution_count": 68,
   "metadata": {},
   "outputs": [],
   "source": [
    "X_train, X_test, y_train, y_test = train_test_split(one_hot_padded, Y_encoded, test_size=0.2, random_state=42)\n",
    "l = len(label_encoder.classes_)"
   ]
  },
  {
   "cell_type": "code",
   "execution_count": 69,
   "metadata": {},
   "outputs": [
    {
     "name": "stdout",
     "output_type": "stream",
     "text": [
      "X_train valid: True\n",
      "X_test valid: True\n"
     ]
    }
   ],
   "source": [
    "def check_indices(data, vocab_size):\n",
    "    for i, sequence in enumerate(data):\n",
    "        for index in sequence:\n",
    "            if index < 0 or index >= vocab_size:\n",
    "                print(f\"Invalid index found: {index} in sequence number {i}\")\n",
    "                return False\n",
    "    return True\n",
    "\n",
    "# Assuming vocab_size is 30787 as you mentioned\n",
    "vocab_size = 30787\n",
    "\n",
    "# Check for X_train and X_test\n",
    "is_X_train_valid = check_indices(X_train, vocab_size)\n",
    "is_X_test_valid = check_indices(X_test, vocab_size)\n",
    "\n",
    "print(f\"X_train valid: {is_X_train_valid}\")\n",
    "print(f\"X_test valid: {is_X_test_valid}\")\n"
   ]
  },
  {
   "cell_type": "code",
   "execution_count": 71,
   "metadata": {},
   "outputs": [
    {
     "data": {
      "text/plain": [
       "keras.src.engine.sequential.Sequential"
      ]
     },
     "execution_count": 71,
     "metadata": {},
     "output_type": "execute_result"
    }
   ],
   "source": [
    "type(model)\n"
   ]
  },
  {
   "cell_type": "code",
   "execution_count": 72,
   "metadata": {},
   "outputs": [
    {
     "name": "stdout",
     "output_type": "stream",
     "text": [
      "WARNING:tensorflow:From c:\\Users\\hs414\\OneDrive\\Desktop\\MajorProject_MLOPS\\venv\\Lib\\site-packages\\keras\\src\\saving\\legacy\\saved_model\\load.py:107: The name tf.gfile.Exists is deprecated. Please use tf.io.gfile.exists instead.\n",
      "\n"
     ]
    }
   ],
   "source": [
    "from keras.models import load_model\n",
    "\n",
    "model = load_model(\"saved_models/my_model\")\n",
    "# Now you can use model.predict, etc.\n"
   ]
  },
  {
   "cell_type": "code",
   "execution_count": 73,
   "metadata": {},
   "outputs": [
    {
     "data": {
      "text/plain": [
       "keras.src.engine.sequential.Sequential"
      ]
     },
     "execution_count": 73,
     "metadata": {},
     "output_type": "execute_result"
    }
   ],
   "source": [
    "type(model)"
   ]
  },
  {
   "cell_type": "code",
   "execution_count": 74,
   "metadata": {},
   "outputs": [
    {
     "data": {
      "text/plain": [
       "numpy.ndarray"
      ]
     },
     "execution_count": 74,
     "metadata": {},
     "output_type": "execute_result"
    }
   ],
   "source": [
    "type(X_train)"
   ]
  },
  {
   "cell_type": "code",
   "execution_count": 75,
   "metadata": {},
   "outputs": [
    {
     "name": "stdout",
     "output_type": "stream",
     "text": [
      "352/352 [==============================] - 18s 48ms/step\n"
     ]
    }
   ],
   "source": [
    "y_pred = model.predict(X_test)"
   ]
  },
  {
   "cell_type": "code",
   "execution_count": 76,
   "metadata": {},
   "outputs": [],
   "source": [
    "y_pred_classes = np.argmax(y_pred, axis=1)"
   ]
  },
  {
   "cell_type": "code",
   "execution_count": 77,
   "metadata": {},
   "outputs": [
    {
     "data": {
      "text/plain": [
       "array([29, 31, 17, ...,  1,  8, 11], dtype=int64)"
      ]
     },
     "execution_count": 77,
     "metadata": {},
     "output_type": "execute_result"
    }
   ],
   "source": [
    "y_pred_classes"
   ]
  },
  {
   "cell_type": "code",
   "execution_count": 80,
   "metadata": {},
   "outputs": [],
   "source": [
    "def train( X_train, y_train, X_test, y_test):\n",
    "    X_train_np = X_train.values if isinstance(X_train, pd.DataFrame) else X_train\n",
    "    X_test_np = X_test.values if isinstance(X_test, pd.DataFrame) else X_test\n",
    "    y_train_np = y_train.values if isinstance(y_train, pd.Series) else y_train\n",
    "    y_test_np = y_test.values if isinstance(y_test, pd.Series) else y_test\n",
    "\n",
    "    model = Sequential()\n",
    "    model.add(Embedding(vocab_size, embedding_dim, input_length=max_length))\n",
    "    model.add(Reshape((max_length, embedding_dim)))\n",
    "    model.add(LSTM(128, return_sequences=True))\n",
    "    model.add(Dropout(0.3))\n",
    "    model.add(LSTM(128))\n",
    "    model.add(Dense(l, activation='softmax'))\n",
    "\n",
    "    model.compile(loss='sparse_categorical_crossentropy', optimizer='adam', metrics=['accuracy'])\n",
    "\n",
    "    # Use NumPy arrays for training\n",
    "    model.fit(X_train_np, y_train_np, validation_data=(X_test_np, y_test_np), epochs=5, batch_size=32)\n",
    "    return model"
   ]
  },
  {
   "cell_type": "code",
   "execution_count": 81,
   "metadata": {},
   "outputs": [
    {
     "name": "stdout",
     "output_type": "stream",
     "text": [
      "Epoch 1/5\n",
      "1408/1408 [==============================] - 259s 181ms/step - loss: 2.1739 - accuracy: 0.3700 - val_loss: 1.8315 - val_accuracy: 0.4584\n",
      "Epoch 2/5\n",
      "1408/1408 [==============================] - 236s 168ms/step - loss: 1.5905 - accuracy: 0.5238 - val_loss: 1.7383 - val_accuracy: 0.4790\n",
      "Epoch 3/5\n",
      "1408/1408 [==============================] - 258s 183ms/step - loss: 1.3517 - accuracy: 0.5912 - val_loss: 1.7315 - val_accuracy: 0.4888\n",
      "Epoch 4/5\n",
      "1408/1408 [==============================] - 283s 201ms/step - loss: 1.1950 - accuracy: 0.6379 - val_loss: 1.7972 - val_accuracy: 0.4841\n",
      "Epoch 5/5\n",
      "1408/1408 [==============================] - 311s 221ms/step - loss: 1.0770 - accuracy: 0.6703 - val_loss: 1.8832 - val_accuracy: 0.4826\n"
     ]
    }
   ],
   "source": [
    "model = train(X_train,y_train,X_test,y_test)"
   ]
  },
  {
   "cell_type": "code",
   "execution_count": 82,
   "metadata": {},
   "outputs": [
    {
     "data": {
      "text/plain": [
       "keras.src.engine.sequential.Sequential"
      ]
     },
     "execution_count": 82,
     "metadata": {},
     "output_type": "execute_result"
    }
   ],
   "source": [
    "type(model)"
   ]
  },
  {
   "cell_type": "code",
   "execution_count": 84,
   "metadata": {},
   "outputs": [],
   "source": [
    "from sklearn.metrics import accuracy_score, classification_report, confusion_matrix\n",
    "def evaluate( model:Sequential, X_test: pd.DataFrame, y_test: pd.Series):\n",
    "    y_pred = model.predict(X_test)\n",
    "    y_pred_classes = np.argmax(y_pred, axis=1)\n",
    "\n",
    "    accuracy = accuracy_score(y_test, y_pred_classes)\n",
    "    class_report = classification_report(y_test, y_pred_classes)\n",
    "    conf_matrix = confusion_matrix(y_test, y_pred_classes)\n",
    "\n",
    "    \n",
    "\n",
    "    return accuracy, class_report, conf_matrix"
   ]
  },
  {
   "cell_type": "code",
   "execution_count": 85,
   "metadata": {},
   "outputs": [
    {
     "name": "stdout",
     "output_type": "stream",
     "text": [
      "352/352 [==============================] - 17s 45ms/step\n"
     ]
    },
    {
     "name": "stderr",
     "output_type": "stream",
     "text": [
      "c:\\Users\\hs414\\OneDrive\\Desktop\\MajorProject_MLOPS\\venv\\Lib\\site-packages\\sklearn\\metrics\\_classification.py:1497: UndefinedMetricWarning: Precision is ill-defined and being set to 0.0 in labels with no predicted samples. Use `zero_division` parameter to control this behavior.\n",
      "  _warn_prf(average, modifier, f\"{metric.capitalize()} is\", len(result))\n",
      "c:\\Users\\hs414\\OneDrive\\Desktop\\MajorProject_MLOPS\\venv\\Lib\\site-packages\\sklearn\\metrics\\_classification.py:1497: UndefinedMetricWarning: Precision is ill-defined and being set to 0.0 in labels with no predicted samples. Use `zero_division` parameter to control this behavior.\n",
      "  _warn_prf(average, modifier, f\"{metric.capitalize()} is\", len(result))\n",
      "c:\\Users\\hs414\\OneDrive\\Desktop\\MajorProject_MLOPS\\venv\\Lib\\site-packages\\sklearn\\metrics\\_classification.py:1497: UndefinedMetricWarning: Precision is ill-defined and being set to 0.0 in labels with no predicted samples. Use `zero_division` parameter to control this behavior.\n",
      "  _warn_prf(average, modifier, f\"{metric.capitalize()} is\", len(result))\n"
     ]
    }
   ],
   "source": [
    "accuracy,c,conf = evaluate(model,X_test,y_test)"
   ]
  },
  {
   "cell_type": "code",
   "execution_count": 86,
   "metadata": {},
   "outputs": [
    {
     "data": {
      "text/plain": [
       "0.4825503951691679"
      ]
     },
     "execution_count": 86,
     "metadata": {},
     "output_type": "execute_result"
    }
   ],
   "source": [
    "accuracy"
   ]
  },
  {
   "cell_type": "code",
   "execution_count": 88,
   "metadata": {},
   "outputs": [
    {
     "data": {
      "text/plain": [
       "array([[ 100,   52,    0, ...,  124,    9,  130],\n",
       "       [  38,  567,    9, ...,  146,   47,   60],\n",
       "       [   5,    9,   24, ...,   29,    2,    1],\n",
       "       ...,\n",
       "       [  46,   83,   12, ..., 1206,   31,   45],\n",
       "       [   8,   15,    1, ...,   40,  199,    1],\n",
       "       [  58,   27,    0, ...,   83,    7,  237]], dtype=int64)"
      ]
     },
     "execution_count": 88,
     "metadata": {},
     "output_type": "execute_result"
    }
   ],
   "source": [
    "conf"
   ]
  },
  {
   "cell_type": "code",
   "execution_count": null,
   "metadata": {},
   "outputs": [],
   "source": []
  }
 ],
 "metadata": {
  "kernelspec": {
   "display_name": "venv",
   "language": "python",
   "name": "python3"
  },
  "language_info": {
   "codemirror_mode": {
    "name": "ipython",
    "version": 3
   },
   "file_extension": ".py",
   "mimetype": "text/x-python",
   "name": "python",
   "nbconvert_exporter": "python",
   "pygments_lexer": "ipython3",
   "version": "3.11.7"
  }
 },
 "nbformat": 4,
 "nbformat_minor": 2
}
